{
 "cells": [
  {
   "cell_type": "code",
   "execution_count": 1,
   "metadata": {
    "collapsed": false
   },
   "outputs": [
    {
     "name": "stdout",
     "output_type": "stream",
     "text": [
      " [-----------------100%-----------------] 100000 of 100000 complete in 15.2 sec"
     ]
    }
   ],
   "source": [
    "import pymc as pm\n",
    "import numpy as np\n",
    "\n",
    "x_data = np.linspace(0,1,100)\n",
    "y_data = np.linspace(0,1,100)\n",
    "\n",
    "slope  = pm.Normal('slope',  mu=0, tau=10**-2)\n",
    "tau    = pm.Uniform('tau', lower=0, upper=20)\n",
    "\n",
    "@pm.deterministic\n",
    "def y_gen(x=x_data, slope=slope):\n",
    "  return slope * x\n",
    "\n",
    "like = pm.Normal('likelihood', mu=y_gen, tau=tau, observed=True, value=y_data)\n",
    "\n",
    "model = pm.Model([slope, y_gen, like, tau])\n",
    "mcmc  = pm.MCMC(model)\n",
    "mcmc.sample(100000, 5000)\n",
    "\n",
    "# This returns 10\n",
    "final_guess = mcmc.trace('slope')[:].mean()"
   ]
  },
  {
   "cell_type": "code",
   "execution_count": 4,
   "metadata": {
    "collapsed": false
   },
   "outputs": [
    {
     "name": "stdout",
     "output_type": "stream",
     "text": [
      "Plotting tau\n",
      "Plotting slope\n"
     ]
    }
   ],
   "source": [
    "from pymc.Matplot import plot\n",
    "plot(mcmc)"
   ]
  },
  {
   "cell_type": "code",
   "execution_count": 3,
   "metadata": {
    "collapsed": false
   },
   "outputs": [
    {
     "data": {
      "text/plain": [
       "0.99990632000627311"
      ]
     },
     "execution_count": 3,
     "metadata": {},
     "output_type": "execute_result"
    }
   ],
   "source": [
    "final_guess"
   ]
  },
  {
   "cell_type": "code",
   "execution_count": null,
   "metadata": {
    "collapsed": true
   },
   "outputs": [],
   "source": []
  }
 ],
 "metadata": {
  "kernelspec": {
   "display_name": "Python 2",
   "language": "python",
   "name": "python2"
  },
  "language_info": {
   "codemirror_mode": {
    "name": "ipython",
    "version": 2
   },
   "file_extension": ".py",
   "mimetype": "text/x-python",
   "name": "python",
   "nbconvert_exporter": "python",
   "pygments_lexer": "ipython2",
   "version": "2.7.9"
  }
 },
 "nbformat": 4,
 "nbformat_minor": 0
}
